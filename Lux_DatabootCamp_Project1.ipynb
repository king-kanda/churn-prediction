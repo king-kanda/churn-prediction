{
  "nbformat": 4,
  "nbformat_minor": 0,
  "metadata": {
    "colab": {
      "provenance": []
    },
    "kernelspec": {
      "name": "python3",
      "display_name": "Python 3"
    },
    "language_info": {
      "name": "python"
    }
  },
  "cells": [
    {
      "cell_type": "markdown",
      "source": [
        "**Step 1: Data Collection and Preprocessing**"
      ],
      "metadata": {
        "id": "HmAXKORj8uLr"
      }
    },
    {
      "cell_type": "code",
      "source": [
        "# Import necessary libraries\n",
        "import pandas as pd\n",
        "\n",
        "# Load historical churn data\n",
        "churn_data = pd.read_csv('churn_data.csv')\n",
        "\n",
        "# Load customer data\n",
        "customer_data = pd.read_csv('customer_data.csv')\n",
        "\n",
        "# Merge churn and customer data based on customer ID\n",
        "merged_data = pd.merge(churn_data, customer_data, on='customer_id', how='inner')\n",
        "\n",
        "# Handle missing values and encode categorical variables\n",
        "merged_data.fillna(0, inplace=True)  # Replace missing values with zeros\n",
        "merged_data = pd.get_dummies(merged_data, columns=['gender', 'contract_type'], drop_first=True)\n",
        "\n",
        "# Split data into features and target variable\n",
        "X = merged_data.drop('churn', axis=1)\n",
        "y = merged_data['churn']\n"
      ],
      "metadata": {
        "id": "6hkC2Gag811u"
      },
      "execution_count": null,
      "outputs": []
    },
    {
      "cell_type": "markdown",
      "source": [
        "**Data Exploration and Analysis:**\n",
        "\n",
        "1.Perform exploratory data analysis (EDA) to understand\n",
        "the distribution of features and identify patterns or trends related to churn.\n",
        "\n",
        "2.Calculate basic statistics and visualize data using graphs and charts.\n",
        "\n",
        "3.Explore the relationships between customer attributes and churn to identify potential predictors."
      ],
      "metadata": {
        "id": "EiW_Oamd87A6"
      }
    },
    {
      "cell_type": "markdown",
      "source": [
        "**Step 3: Feature Engineering**"
      ],
      "metadata": {
        "id": "jzNi18Q49X4K"
      }
    },
    {
      "cell_type": "code",
      "source": [
        "# Create new features (example: customer tenure)\n",
        "merged_data['customer_tenure'] = merged_data['end_date'] - merged_data['start_date']\n"
      ],
      "metadata": {
        "id": "1SbKtj799VJf"
      },
      "execution_count": null,
      "outputs": []
    },
    {
      "cell_type": "markdown",
      "source": [
        "**Step 4: Data Splitting**"
      ],
      "metadata": {
        "id": "GUGk3uGB9csC"
      }
    },
    {
      "cell_type": "code",
      "source": [
        "from sklearn.model_selection import train_test_split\n",
        "\n",
        "# Split data into training, validation, and test sets\n",
        "X_train, X_temp, y_train, y_temp = train_test_split(X, y, test_size=0.3, random_state=42)\n",
        "X_val, X_test, y_val, y_test = train_test_split(X_temp, y_temp, test_size=0.5, random_state=42)\n"
      ],
      "metadata": {
        "id": "HGvGMoAv9god"
      },
      "execution_count": null,
      "outputs": []
    },
    {
      "cell_type": "markdown",
      "source": [
        "**Step 5: Model Selection**\n",
        "\n",
        "Choose an appropriate model for binary classification (e.g., logistic regression, decision tree, or random forest)."
      ],
      "metadata": {
        "id": "Fhtoiukv9ngK"
      }
    },
    {
      "cell_type": "markdown",
      "source": [
        "**Step 6: Model Training**"
      ],
      "metadata": {
        "id": "s5oQlJmw9qri"
      }
    },
    {
      "cell_type": "code",
      "source": [
        "from sklearn.ensemble import RandomForestClassifier\n",
        "\n",
        "# Create and train the model (Random Forest as an example)\n",
        "model = RandomForestClassifier(random_state=42)\n",
        "model.fit(X_train, y_train)\n"
      ],
      "metadata": {
        "id": "zmKeODTV9uu-"
      },
      "execution_count": null,
      "outputs": []
    },
    {
      "cell_type": "markdown",
      "source": [
        "**Step 7: Model Evaluation**"
      ],
      "metadata": {
        "id": "W9RdQ-r291Wl"
      }
    },
    {
      "cell_type": "code",
      "source": [
        "from sklearn.metrics import accuracy_score, classification_report, confusion_matrix\n",
        "\n",
        "# Evaluate the model on the validation set\n",
        "y_val_pred = model.predict(X_val)\n",
        "accuracy = accuracy_score(y_val, y_val_pred)\n",
        "print(f'Accuracy: {accuracy}')\n",
        "print(classification_report(y_val, y_val_pred))\n"
      ],
      "metadata": {
        "colab": {
          "base_uri": "https://localhost:8080/",
          "height": 245
        },
        "id": "RQ6watz99yA6",
        "outputId": "0b053511-1070-4250-ccb7-c6dd316ac13b"
      },
      "execution_count": null,
      "outputs": [
        {
          "output_type": "error",
          "ename": "NameError",
          "evalue": "ignored",
          "traceback": [
            "\u001b[0;31m---------------------------------------------------------------------------\u001b[0m",
            "\u001b[0;31mNameError\u001b[0m                                 Traceback (most recent call last)",
            "\u001b[0;32m<ipython-input-1-61658ee560db>\u001b[0m in \u001b[0;36m<cell line: 4>\u001b[0;34m()\u001b[0m\n\u001b[1;32m      2\u001b[0m \u001b[0;34m\u001b[0m\u001b[0m\n\u001b[1;32m      3\u001b[0m \u001b[0;31m# Evaluate the model on the validation set\u001b[0m\u001b[0;34m\u001b[0m\u001b[0;34m\u001b[0m\u001b[0m\n\u001b[0;32m----> 4\u001b[0;31m \u001b[0my_val_pred\u001b[0m \u001b[0;34m=\u001b[0m \u001b[0mmodel\u001b[0m\u001b[0;34m.\u001b[0m\u001b[0mpredict\u001b[0m\u001b[0;34m(\u001b[0m\u001b[0mX_val\u001b[0m\u001b[0;34m)\u001b[0m\u001b[0;34m\u001b[0m\u001b[0;34m\u001b[0m\u001b[0m\n\u001b[0m\u001b[1;32m      5\u001b[0m \u001b[0maccuracy\u001b[0m \u001b[0;34m=\u001b[0m \u001b[0maccuracy_score\u001b[0m\u001b[0;34m(\u001b[0m\u001b[0my_val\u001b[0m\u001b[0;34m,\u001b[0m \u001b[0my_val_pred\u001b[0m\u001b[0;34m)\u001b[0m\u001b[0;34m\u001b[0m\u001b[0;34m\u001b[0m\u001b[0m\n\u001b[1;32m      6\u001b[0m \u001b[0mprint\u001b[0m\u001b[0;34m(\u001b[0m\u001b[0;34mf'Accuracy: {accuracy}'\u001b[0m\u001b[0;34m)\u001b[0m\u001b[0;34m\u001b[0m\u001b[0;34m\u001b[0m\u001b[0m\n",
            "\u001b[0;31mNameError\u001b[0m: name 'model' is not defined"
          ]
        }
      ]
    }
  ]
}